{
 "cells": [
  {
   "cell_type": "markdown",
   "source": [
    "# load_saved_model\r\n",
    "----\r\n",
    "\r\n",
    "Written in the Python 3.7.9 Environment with the following package versions\r\n",
    "\r\n",
    "    * joblib 1.0.1\r\n",
    "    * numpy 1.19.5\r\n",
    "    * pandas 1.3.1\r\n",
    "    * scikit-learn 0.24.2\r\n",
    "    * tensorflow 2.5.0\r\n",
    "\r\n",
    "By Nicole Lund \r\n",
    "\r\n",
    "This Jupyter Notebook loads the best fit SVC model for Exoplanet classification from Kepler Exoplanet study data.\r\n",
    "\r\n",
    "Column descriptions can be found at https://exoplanetarchive.ipac.caltech.edu/docs/API_kepcandidate_columns.html \r\n",
    "\r\n",
    "**Source Data**\r\n",
    "\r\n",
    "The source data used was provided by University of Arizona's Data Analytics homework assignment. Their data was derived from https://www.kaggle.com/nasa/kepler-exoplanet-search-results?select=cumulative.csv\r\n",
    "\r\n",
    "The full data set was released by NASA at\r\n",
    "https://exoplanetarchive.ipac.caltech.edu/cgi-bin/TblView/nph-tblView?app=ExoTbls&config=koi"
   ],
   "metadata": {}
  },
  {
   "cell_type": "code",
   "execution_count": 1,
   "source": [
    "# Import Dependencies\r\n",
    "\r\n",
    "# Plotting\r\n",
    "%matplotlib inline\r\n",
    "import matplotlib.pyplot as plt\r\n",
    "\r\n",
    "# Data manipulation\r\n",
    "import numpy as np\r\n",
    "import pandas as pd\r\n",
    "from statistics import mean\r\n",
    "from operator import itemgetter\r\n",
    "from sklearn.model_selection import train_test_split\r\n",
    "from sklearn.preprocessing import LabelEncoder, MinMaxScaler\r\n",
    "from tensorflow.keras.utils import to_categorical\r\n",
    "\r\n",
    "# Parameter Selection\r\n",
    "from sklearn import tree\r\n",
    "from sklearn.ensemble import RandomForestClassifier\r\n",
    "from sklearn.model_selection import GridSearchCV\r\n",
    "\r\n",
    "# Model Development\r\n",
    "from sklearn.linear_model import LinearRegression\r\n",
    "from sklearn.linear_model import LogisticRegression\r\n",
    "from sklearn.svm import SVC \r\n",
    "from tensorflow import keras\r\n",
    "from tensorflow.keras.models import Sequential\r\n",
    "from tensorflow.keras.layers import Dense\r\n",
    "from tensorflow.keras.layers import Dropout\r\n",
    "from tensorflow.keras.wrappers.scikit_learn import KerasClassifier\r\n",
    "\r\n",
    "# Model Metrics\r\n",
    "from sklearn.metrics import classification_report\r\n",
    "\r\n",
    "# Save/load files\r\n",
    "from tensorflow.keras.models import load_model\r\n",
    "import joblib\r\n",
    "\r\n",
    "# # Ignore deprecation warnings\r\n",
    "# import warnings\r\n",
    "# warnings.simplefilter('ignore', FutureWarning)"
   ],
   "outputs": [],
   "metadata": {}
  },
  {
   "cell_type": "code",
   "execution_count": 2,
   "source": [
    "# Set the seed value for the notebook, so the results are reproducible\r\n",
    "from numpy.random import seed\r\n",
    "seed(1)"
   ],
   "outputs": [],
   "metadata": {}
  },
  {
   "cell_type": "markdown",
   "source": [
    "# Read the CSV and Perform Basic Data Cleaning"
   ],
   "metadata": {}
  },
  {
   "cell_type": "code",
   "execution_count": 3,
   "source": [
    "# Import data\r\n",
    "df = pd.read_csv(\"b_source_data/exoplanet_data.csv\")\r\n",
    "# print(df.info())\r\n",
    "\r\n",
    "# Drop columns where all values are null\r\n",
    "df = df.dropna(axis='columns', how='all')\r\n",
    "\r\n",
    "# Drop rows containing null values\r\n",
    "df = df.dropna()\r\n",
    "\r\n",
    "# Display data info\r\n",
    "print(df.info())\r\n",
    "print(df.head())\r\n",
    "print(df.koi_disposition.unique())"
   ],
   "outputs": [
    {
     "output_type": "stream",
     "name": "stdout",
     "text": [
      "<class 'pandas.core.frame.DataFrame'>\n",
      "Int64Index: 6991 entries, 0 to 6990\n",
      "Data columns (total 41 columns):\n",
      " #   Column             Non-Null Count  Dtype  \n",
      "---  ------             --------------  -----  \n",
      " 0   koi_disposition    6991 non-null   object \n",
      " 1   koi_fpflag_nt      6991 non-null   int64  \n",
      " 2   koi_fpflag_ss      6991 non-null   int64  \n",
      " 3   koi_fpflag_co      6991 non-null   int64  \n",
      " 4   koi_fpflag_ec      6991 non-null   int64  \n",
      " 5   koi_period         6991 non-null   float64\n",
      " 6   koi_period_err1    6991 non-null   float64\n",
      " 7   koi_period_err2    6991 non-null   float64\n",
      " 8   koi_time0bk        6991 non-null   float64\n",
      " 9   koi_time0bk_err1   6991 non-null   float64\n",
      " 10  koi_time0bk_err2   6991 non-null   float64\n",
      " 11  koi_impact         6991 non-null   float64\n",
      " 12  koi_impact_err1    6991 non-null   float64\n",
      " 13  koi_impact_err2    6991 non-null   float64\n",
      " 14  koi_duration       6991 non-null   float64\n",
      " 15  koi_duration_err1  6991 non-null   float64\n",
      " 16  koi_duration_err2  6991 non-null   float64\n",
      " 17  koi_depth          6991 non-null   float64\n",
      " 18  koi_depth_err1     6991 non-null   float64\n",
      " 19  koi_depth_err2     6991 non-null   float64\n",
      " 20  koi_prad           6991 non-null   float64\n",
      " 21  koi_prad_err1      6991 non-null   float64\n",
      " 22  koi_prad_err2      6991 non-null   float64\n",
      " 23  koi_teq            6991 non-null   int64  \n",
      " 24  koi_insol          6991 non-null   float64\n",
      " 25  koi_insol_err1     6991 non-null   float64\n",
      " 26  koi_insol_err2     6991 non-null   float64\n",
      " 27  koi_model_snr      6991 non-null   float64\n",
      " 28  koi_tce_plnt_num   6991 non-null   int64  \n",
      " 29  koi_steff          6991 non-null   int64  \n",
      " 30  koi_steff_err1     6991 non-null   int64  \n",
      " 31  koi_steff_err2     6991 non-null   int64  \n",
      " 32  koi_slogg          6991 non-null   float64\n",
      " 33  koi_slogg_err1     6991 non-null   float64\n",
      " 34  koi_slogg_err2     6991 non-null   float64\n",
      " 35  koi_srad           6991 non-null   float64\n",
      " 36  koi_srad_err1      6991 non-null   float64\n",
      " 37  koi_srad_err2      6991 non-null   float64\n",
      " 38  ra                 6991 non-null   float64\n",
      " 39  dec                6991 non-null   float64\n",
      " 40  koi_kepmag         6991 non-null   float64\n",
      "dtypes: float64(31), int64(9), object(1)\n",
      "memory usage: 2.2+ MB\n",
      "None\n",
      "  koi_disposition  koi_fpflag_nt  koi_fpflag_ss  koi_fpflag_co  koi_fpflag_ec  \\\n",
      "0       CONFIRMED              0              0              0              0   \n",
      "1  FALSE POSITIVE              0              1              0              0   \n",
      "2  FALSE POSITIVE              0              1              0              0   \n",
      "3       CONFIRMED              0              0              0              0   \n",
      "4       CONFIRMED              0              0              0              0   \n",
      "\n",
      "   koi_period  koi_period_err1  koi_period_err2  koi_time0bk  \\\n",
      "0   54.418383     2.479000e-04    -2.479000e-04   162.513840   \n",
      "1   19.899140     1.490000e-05    -1.490000e-05   175.850252   \n",
      "2    1.736952     2.630000e-07    -2.630000e-07   170.307565   \n",
      "3    2.525592     3.760000e-06    -3.760000e-06   171.595550   \n",
      "4    4.134435     1.050000e-05    -1.050000e-05   172.979370   \n",
      "\n",
      "   koi_time0bk_err1  ...  koi_steff_err2  koi_slogg  koi_slogg_err1  \\\n",
      "0          0.003520  ...             -81      4.467           0.064   \n",
      "1          0.000581  ...            -176      4.544           0.044   \n",
      "2          0.000115  ...            -174      4.564           0.053   \n",
      "3          0.001130  ...            -211      4.438           0.070   \n",
      "4          0.001900  ...            -232      4.486           0.054   \n",
      "\n",
      "   koi_slogg_err2  koi_srad  koi_srad_err1  koi_srad_err2         ra  \\\n",
      "0          -0.096     0.927          0.105         -0.061  291.93423   \n",
      "1          -0.176     0.868          0.233         -0.078  297.00482   \n",
      "2          -0.168     0.791          0.201         -0.067  285.53461   \n",
      "3          -0.210     1.046          0.334         -0.133  288.75488   \n",
      "4          -0.229     0.972          0.315         -0.105  296.28613   \n",
      "\n",
      "         dec  koi_kepmag  \n",
      "0  48.141651      15.347  \n",
      "1  48.134129      15.436  \n",
      "2  48.285210      15.597  \n",
      "3  48.226200      15.509  \n",
      "4  48.224670      15.714  \n",
      "\n",
      "[5 rows x 41 columns]\n",
      "['CONFIRMED' 'FALSE POSITIVE' 'CANDIDATE']\n"
     ]
    }
   ],
   "metadata": {}
  },
  {
   "cell_type": "code",
   "execution_count": 4,
   "source": [
    "# Rename \"FALSE POSITIVE\" disposition values\r\n",
    "df.koi_disposition = df.koi_disposition.str.replace(' ','_')\r\n",
    "print(df.koi_disposition.unique())"
   ],
   "outputs": [
    {
     "output_type": "stream",
     "name": "stdout",
     "text": [
      "['CONFIRMED' 'FALSE_POSITIVE' 'CANDIDATE']\n"
     ]
    }
   ],
   "metadata": {}
  },
  {
   "cell_type": "markdown",
   "source": [
    "# Select features"
   ],
   "metadata": {}
  },
  {
   "cell_type": "code",
   "execution_count": 5,
   "source": [
    "# Split dataframe into X and y\r\n",
    "\r\n",
    "# Select features to analyze in X\r\n",
    "select_option = 1\r\n",
    "\r\n",
    "if select_option == 1:\r\n",
    "    # Option 1: Choose all features\r\n",
    "    X = df.drop(\"koi_disposition\", axis=1)\r\n",
    "\r\n",
    "elif select_option == 2:\r\n",
    "    # Option 2: Choose all features that are not associated with error measurements\r\n",
    "    X = df[['koi_fpflag_nt', 'koi_fpflag_ss', 'koi_fpflag_co', 'koi_fpflag_ec', 'koi_period', 'koi_time0bk', 'koi_impact', 'koi_duration','koi_depth', 'koi_prad', 'koi_teq', 'koi_insol', 'koi_model_snr', 'koi_tce_plnt_num', 'koi_steff', 'koi_slogg', 'koi_srad', 'ra', 'dec', 'koi_kepmag']]\r\n",
    "\r\n",
    "elif select_option == 3:\r\n",
    "    # Option 3: Choose features from Decision Tree and Random Forest assessment.\r\n",
    "    tree_features = ['koi_fpflag_nt', 'koi_fpflag_co', 'koi_fpflag_ss', 'koi_model_snr']\r\n",
    "    forest_features = ['koi_fpflag_co', 'koi_fpflag_nt', 'koi_fpflag_ss', 'koi_model_snr', 'koi_prad']\r\n",
    "    X = df[set(tree_features + forest_features)]\r\n",
    "\r\n",
    "# Define y\r\n",
    "y = df[\"koi_disposition\"]\r\n",
    "\r\n",
    "print(X.shape, y.shape)"
   ],
   "outputs": [
    {
     "output_type": "stream",
     "name": "stdout",
     "text": [
      "(6991, 40) (6991,)\n"
     ]
    }
   ],
   "metadata": {}
  },
  {
   "cell_type": "markdown",
   "source": [
    "# Create a Train Test Split\n",
    "\n",
    "Use `koi_disposition` for the y values"
   ],
   "metadata": {}
  },
  {
   "cell_type": "code",
   "execution_count": 6,
   "source": [
    "# Split X and y into training and testing groups\r\n",
    "X_train, X_test, y_train, y_test = train_test_split(\r\n",
    "    X, y, test_size=0.3, random_state=42)"
   ],
   "outputs": [],
   "metadata": {}
  },
  {
   "cell_type": "code",
   "execution_count": 7,
   "source": [
    "# Display training data\r\n",
    "X_test.head()"
   ],
   "outputs": [
    {
     "output_type": "execute_result",
     "data": {
      "text/plain": [
       "      koi_fpflag_nt  koi_fpflag_ss  koi_fpflag_co  koi_fpflag_ec  koi_period  \\\n",
       "4982              1              0              0              0   88.523517   \n",
       "4866              0              0              0              0  102.493119   \n",
       "2934              0              0              1              0    1.181165   \n",
       "5007              0              1              0              0    8.412009   \n",
       "3869              0              1              1              1    1.195515   \n",
       "\n",
       "      koi_period_err1  koi_period_err2  koi_time0bk  koi_time0bk_err1  \\\n",
       "4982     2.337000e-03    -2.337000e-03   189.275600          0.023200   \n",
       "4866     1.322000e-03    -1.322000e-03   166.009400          0.010500   \n",
       "2934     3.890000e-06    -3.890000e-06   132.425220          0.002760   \n",
       "5007     2.360000e-07    -2.360000e-07   139.648520          0.000024   \n",
       "3869     5.730000e-07    -5.730000e-07   132.303851          0.000410   \n",
       "\n",
       "      koi_time0bk_err2  ...  koi_steff_err2  koi_slogg  koi_slogg_err1  \\\n",
       "4982         -0.023200  ...             -75      4.782           0.060   \n",
       "4866         -0.010500  ...            -140      4.583           0.024   \n",
       "2934         -0.002760  ...            -154      4.582           0.048   \n",
       "5007         -0.000024  ...            -206      4.225           0.185   \n",
       "3869         -0.000410  ...            -182      4.271           0.220   \n",
       "\n",
       "      koi_slogg_err2  koi_srad  koi_srad_err1  koi_srad_err2         ra  \\\n",
       "4982          -0.070     0.462          0.050         -0.070  295.57629   \n",
       "4866          -0.117     0.791          0.132         -0.055  297.66437   \n",
       "2934          -0.078     0.747          0.098         -0.066  291.34879   \n",
       "5007          -0.185     1.314          0.373         -0.305  291.84970   \n",
       "3869          -0.180     1.155          0.331         -0.271  297.54337   \n",
       "\n",
       "            dec  koi_kepmag  \n",
       "4982  48.897861      15.841  \n",
       "4866  46.944820      15.142  \n",
       "2934  51.256119      15.971  \n",
       "5007  37.738621      13.551  \n",
       "3869  41.947979      13.998  \n",
       "\n",
       "[5 rows x 40 columns]"
      ],
      "text/html": [
       "<div>\n",
       "<style scoped>\n",
       "    .dataframe tbody tr th:only-of-type {\n",
       "        vertical-align: middle;\n",
       "    }\n",
       "\n",
       "    .dataframe tbody tr th {\n",
       "        vertical-align: top;\n",
       "    }\n",
       "\n",
       "    .dataframe thead th {\n",
       "        text-align: right;\n",
       "    }\n",
       "</style>\n",
       "<table border=\"1\" class=\"dataframe\">\n",
       "  <thead>\n",
       "    <tr style=\"text-align: right;\">\n",
       "      <th></th>\n",
       "      <th>koi_fpflag_nt</th>\n",
       "      <th>koi_fpflag_ss</th>\n",
       "      <th>koi_fpflag_co</th>\n",
       "      <th>koi_fpflag_ec</th>\n",
       "      <th>koi_period</th>\n",
       "      <th>koi_period_err1</th>\n",
       "      <th>koi_period_err2</th>\n",
       "      <th>koi_time0bk</th>\n",
       "      <th>koi_time0bk_err1</th>\n",
       "      <th>koi_time0bk_err2</th>\n",
       "      <th>...</th>\n",
       "      <th>koi_steff_err2</th>\n",
       "      <th>koi_slogg</th>\n",
       "      <th>koi_slogg_err1</th>\n",
       "      <th>koi_slogg_err2</th>\n",
       "      <th>koi_srad</th>\n",
       "      <th>koi_srad_err1</th>\n",
       "      <th>koi_srad_err2</th>\n",
       "      <th>ra</th>\n",
       "      <th>dec</th>\n",
       "      <th>koi_kepmag</th>\n",
       "    </tr>\n",
       "  </thead>\n",
       "  <tbody>\n",
       "    <tr>\n",
       "      <th>4982</th>\n",
       "      <td>1</td>\n",
       "      <td>0</td>\n",
       "      <td>0</td>\n",
       "      <td>0</td>\n",
       "      <td>88.523517</td>\n",
       "      <td>2.337000e-03</td>\n",
       "      <td>-2.337000e-03</td>\n",
       "      <td>189.275600</td>\n",
       "      <td>0.023200</td>\n",
       "      <td>-0.023200</td>\n",
       "      <td>...</td>\n",
       "      <td>-75</td>\n",
       "      <td>4.782</td>\n",
       "      <td>0.060</td>\n",
       "      <td>-0.070</td>\n",
       "      <td>0.462</td>\n",
       "      <td>0.050</td>\n",
       "      <td>-0.070</td>\n",
       "      <td>295.57629</td>\n",
       "      <td>48.897861</td>\n",
       "      <td>15.841</td>\n",
       "    </tr>\n",
       "    <tr>\n",
       "      <th>4866</th>\n",
       "      <td>0</td>\n",
       "      <td>0</td>\n",
       "      <td>0</td>\n",
       "      <td>0</td>\n",
       "      <td>102.493119</td>\n",
       "      <td>1.322000e-03</td>\n",
       "      <td>-1.322000e-03</td>\n",
       "      <td>166.009400</td>\n",
       "      <td>0.010500</td>\n",
       "      <td>-0.010500</td>\n",
       "      <td>...</td>\n",
       "      <td>-140</td>\n",
       "      <td>4.583</td>\n",
       "      <td>0.024</td>\n",
       "      <td>-0.117</td>\n",
       "      <td>0.791</td>\n",
       "      <td>0.132</td>\n",
       "      <td>-0.055</td>\n",
       "      <td>297.66437</td>\n",
       "      <td>46.944820</td>\n",
       "      <td>15.142</td>\n",
       "    </tr>\n",
       "    <tr>\n",
       "      <th>2934</th>\n",
       "      <td>0</td>\n",
       "      <td>0</td>\n",
       "      <td>1</td>\n",
       "      <td>0</td>\n",
       "      <td>1.181165</td>\n",
       "      <td>3.890000e-06</td>\n",
       "      <td>-3.890000e-06</td>\n",
       "      <td>132.425220</td>\n",
       "      <td>0.002760</td>\n",
       "      <td>-0.002760</td>\n",
       "      <td>...</td>\n",
       "      <td>-154</td>\n",
       "      <td>4.582</td>\n",
       "      <td>0.048</td>\n",
       "      <td>-0.078</td>\n",
       "      <td>0.747</td>\n",
       "      <td>0.098</td>\n",
       "      <td>-0.066</td>\n",
       "      <td>291.34879</td>\n",
       "      <td>51.256119</td>\n",
       "      <td>15.971</td>\n",
       "    </tr>\n",
       "    <tr>\n",
       "      <th>5007</th>\n",
       "      <td>0</td>\n",
       "      <td>1</td>\n",
       "      <td>0</td>\n",
       "      <td>0</td>\n",
       "      <td>8.412009</td>\n",
       "      <td>2.360000e-07</td>\n",
       "      <td>-2.360000e-07</td>\n",
       "      <td>139.648520</td>\n",
       "      <td>0.000024</td>\n",
       "      <td>-0.000024</td>\n",
       "      <td>...</td>\n",
       "      <td>-206</td>\n",
       "      <td>4.225</td>\n",
       "      <td>0.185</td>\n",
       "      <td>-0.185</td>\n",
       "      <td>1.314</td>\n",
       "      <td>0.373</td>\n",
       "      <td>-0.305</td>\n",
       "      <td>291.84970</td>\n",
       "      <td>37.738621</td>\n",
       "      <td>13.551</td>\n",
       "    </tr>\n",
       "    <tr>\n",
       "      <th>3869</th>\n",
       "      <td>0</td>\n",
       "      <td>1</td>\n",
       "      <td>1</td>\n",
       "      <td>1</td>\n",
       "      <td>1.195515</td>\n",
       "      <td>5.730000e-07</td>\n",
       "      <td>-5.730000e-07</td>\n",
       "      <td>132.303851</td>\n",
       "      <td>0.000410</td>\n",
       "      <td>-0.000410</td>\n",
       "      <td>...</td>\n",
       "      <td>-182</td>\n",
       "      <td>4.271</td>\n",
       "      <td>0.220</td>\n",
       "      <td>-0.180</td>\n",
       "      <td>1.155</td>\n",
       "      <td>0.331</td>\n",
       "      <td>-0.271</td>\n",
       "      <td>297.54337</td>\n",
       "      <td>41.947979</td>\n",
       "      <td>13.998</td>\n",
       "    </tr>\n",
       "  </tbody>\n",
       "</table>\n",
       "<p>5 rows × 40 columns</p>\n",
       "</div>"
      ]
     },
     "metadata": {},
     "execution_count": 7
    }
   ],
   "metadata": {}
  },
  {
   "cell_type": "markdown",
   "source": [
    "# Pre-processing"
   ],
   "metadata": {}
  },
  {
   "cell_type": "code",
   "execution_count": 8,
   "source": [
    "# Scale the data with MinMaxScaler\r\n",
    "X_scaler = MinMaxScaler().fit(X_train)\r\n",
    "X_train_scaled = X_scaler.transform(X_train)\r\n",
    "X_test_scaled = X_scaler.transform(X_test)"
   ],
   "outputs": [],
   "metadata": {}
  },
  {
   "cell_type": "code",
   "execution_count": 9,
   "source": [
    "# One-Hot-Encode the y data\r\n",
    "\r\n",
    "# Step 1: Label-encode data set\r\n",
    "label_encoder = LabelEncoder()\r\n",
    "label_encoder.fit(y_train)\r\n",
    "encoded_y_train = label_encoder.transform(y_train)\r\n",
    "encoded_y_test = label_encoder.transform(y_test)\r\n",
    "\r\n",
    "# Step 2: Convert encoded labels to one-hot-encoding\r\n",
    "y_train_categorical = to_categorical(encoded_y_train)\r\n",
    "y_test_categorical = to_categorical(encoded_y_test)"
   ],
   "outputs": [],
   "metadata": {}
  },
  {
   "cell_type": "code",
   "execution_count": 10,
   "source": [
    "print('Unique KOI Disposition Values')\r\n",
    "print(y.unique())\r\n",
    "print('-----------')\r\n",
    "print('Sample KOI Disposition Values and Encoding')\r\n",
    "print(y_test[:5])\r\n",
    "print(y_test_categorical[:5])"
   ],
   "outputs": [
    {
     "output_type": "stream",
     "name": "stdout",
     "text": [
      "Unique KOI Disposition Values\n",
      "['CONFIRMED' 'FALSE_POSITIVE' 'CANDIDATE']\n",
      "-----------\n",
      "Sample KOI Disposition Values and Encoding\n",
      "4982    FALSE_POSITIVE\n",
      "4866         CANDIDATE\n",
      "2934    FALSE_POSITIVE\n",
      "5007    FALSE_POSITIVE\n",
      "3869    FALSE_POSITIVE\n",
      "Name: koi_disposition, dtype: object\n",
      "[[0. 0. 1.]\n",
      " [1. 0. 0.]\n",
      " [0. 0. 1.]\n",
      " [0. 0. 1.]\n",
      " [0. 0. 1.]]\n"
     ]
    }
   ],
   "metadata": {}
  },
  {
   "cell_type": "markdown",
   "source": [
    "# Load the saved model and grid\r\n",
    "\r\n"
   ],
   "metadata": {}
  },
  {
   "cell_type": "code",
   "execution_count": 11,
   "source": [
    "model = joblib.load('bestFit_SVC_model.sav')\r\n",
    "grid = joblib.load('bestFit_SVC_grid.sav')"
   ],
   "outputs": [],
   "metadata": {}
  },
  {
   "cell_type": "markdown",
   "source": [
    "# Print scoring results of the trained model"
   ],
   "metadata": {}
  },
  {
   "cell_type": "code",
   "execution_count": 12,
   "source": [
    "print(f\"Training Data Score: {model.score(X_train_scaled, y_train)}\")\r\n",
    "print(f\"Testing Data Score: {model.score(X_test_scaled, y_test)}\")"
   ],
   "outputs": [
    {
     "output_type": "stream",
     "name": "stdout",
     "text": [
      "Training Data Score: 0.880032699775189\n",
      "Testing Data Score: 0.8746425166825548\n"
     ]
    }
   ],
   "metadata": {}
  },
  {
   "cell_type": "code",
   "execution_count": 13,
   "source": [
    "print(grid.best_params_)\r\n",
    "print(grid.best_score_)"
   ],
   "outputs": [
    {
     "output_type": "stream",
     "name": "stdout",
     "text": [
      "{'C': 10, 'gamma': 0.0001, 'kernel': 'linear'}\n",
      "0.8753276892451083\n"
     ]
    }
   ],
   "metadata": {}
  },
  {
   "cell_type": "code",
   "execution_count": 14,
   "source": [
    "# Make predictions with the hypertuned model\r\n",
    "predictions = grid.predict(X_test_scaled)"
   ],
   "outputs": [],
   "metadata": {}
  },
  {
   "cell_type": "code",
   "execution_count": 15,
   "source": [
    "print(classification_report(y_test, predictions,\r\n",
    "                            target_names=y.unique()))"
   ],
   "outputs": [
    {
     "output_type": "stream",
     "name": "stdout",
     "text": [
      "                precision    recall  f1-score   support\n",
      "\n",
      "     CONFIRMED       0.81      0.65      0.72       504\n",
      "FALSE_POSITIVE       0.74      0.85      0.79       574\n",
      "     CANDIDATE       0.98      1.00      0.99      1020\n",
      "\n",
      "      accuracy                           0.87      2098\n",
      "     macro avg       0.85      0.83      0.84      2098\n",
      "  weighted avg       0.88      0.87      0.87      2098\n",
      "\n"
     ]
    }
   ],
   "metadata": {}
  }
 ],
 "metadata": {
  "kernel_info": {
   "name": "dev"
  },
  "kernelspec": {
   "name": "python3",
   "display_name": "Python 3.7.9 64-bit ('PythonDataV2': conda)"
  },
  "language_info": {
   "codemirror_mode": {
    "name": "ipython",
    "version": 3
   },
   "file_extension": ".py",
   "mimetype": "text/x-python",
   "name": "python",
   "nbconvert_exporter": "python",
   "pygments_lexer": "ipython3",
   "version": "3.7.9"
  },
  "nteract": {
   "version": "0.12.3"
  },
  "interpreter": {
   "hash": "7145387fd502c2a792381ef9ef58718f99f5f6cce2c67dc36e296264320f59ee"
  }
 },
 "nbformat": 4,
 "nbformat_minor": 2
}